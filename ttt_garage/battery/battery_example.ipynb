{
 "cells": [
  {
   "attachments": {},
   "cell_type": "markdown",
   "metadata": {},
   "source": [
    "# Battery pack thermal modeling\n",
    "\n",
    "## Introduction\n",
    "\n",
    "Battery thermal modeling is an important aspect of designing and optimizing electric aircraft systems. As electric aircraft continue to evolve and become more prevalent, it is crucial to understand how batteries behave under different operating conditions, and to design battery systems that can withstand these conditions safely and reliably.\n",
    "\n",
    "Battery thermal modeling can help engineers predict and understand the temperature distribution within a battery pack, which can help prevent thermal runaway, a phenomenon where a single cell within the battery pack generates too much heat, potentially leading to a cascading failure of the entire pack.\n",
    "\n",
    "This example of transient heating of a battery pack with one cell undergoing thermal runaway demonstrates how to use open-source tools to simulate the thermal behavior of a battery pack and calculate the maximum temperature within each cell. This type of simulation can be used to prevent thermal runaway events and ensure safe and reliable operation of electric aircraft systems.\n",
    "\n",
    "If you're new to battery thermal modeling, this example can serve as a starting point for understanding the basic concepts and tools used in this field. The example is designed to be simple and easy to understand, and can be modified and applied to a wide range of battery pack designs and operating conditions.\n",
    "\n",
    "https://smdogroup.github.io/tacs/examples/Example-Transient_Battery.html"
   ]
  }
 ],
 "metadata": {
  "language_info": {
   "name": "python"
  },
  "orig_nbformat": 4
 },
 "nbformat": 4,
 "nbformat_minor": 2
}
