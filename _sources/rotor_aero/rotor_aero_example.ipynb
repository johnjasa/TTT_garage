{
 "cells": [
  {
   "attachments": {},
   "cell_type": "markdown",
   "metadata": {},
   "source": [
    "# Aerodynamics Rotor Optimization with CCBlade\n",
    "\n",
    "[<img src=\"ccblade.png\" width=\"500\"/>](ccblade.png)\n",
    "\n",
    "Figure from [CCBlade Documentation](https://www.osti.gov/biblio/1260115)\n",
    "\n",
    "TODO: update this image with one from Daniel\n",
    "\n",
    "##  Introduction\n",
    "\n",
    "In this aerodynamic rotor optimization example, we explore the use of CCBlade, a state-of-the-art, open-source tool for evaluating the aerodynamic performance of aircraft rotors. The primary objective of this case study is to maximize the aerodynamic efficiency of a rotor by controlling its chord distribution while keeping the structural and manufacturing constraints in mind.\n",
    "\n",
    "CCBlade uses blade element momentum (BEM) theory to accurately predict the performance of rotors under various conditions, including aircraft and wind turbine rotors. The tool enables users to easily customize rotor geometry, airfoil shapes, and other design parameters to suit specific optimization goals.\n",
    "\n",
    "In this particular case, we focus on the aerodynamic aspects of rotor design, adjusting the chord distribution to optimize performance while maintaining the structural integrity of the blade. Through a systematic optimization process, we aim to identify the ideal chord distribution that leads to maximum aerodynamic efficiency while adhering to practical design constraints.\n",
    "\n",
    "By the end of this example, you will have gained valuable insights into the aerodynamic optimization process for rotor design using CCBlade, which can be further expanded to include acoustic considerations once the associated open-source tools become available.\n",
    "\n",
    "Currently this example case is only available to NASA employees.\n",
    "\n",
    "TODO: move this example off of developer.nasa.\n",
    "\n",
    "https://developer.nasa.gov/dingraha/CCBladeOpenMDAOExamplesForJJasa"
   ]
  },
  {
   "cell_type": "markdown",
   "metadata": {},
   "source": []
  }
 ],
 "metadata": {
  "language_info": {
   "name": "python"
  },
  "orig_nbformat": 4
 },
 "nbformat": 4,
 "nbformat_minor": 2
}
