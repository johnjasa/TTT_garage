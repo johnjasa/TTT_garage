{
 "cells": [
  {
   "cell_type": "markdown",
   "metadata": {},
   "source": [
    "# Aerostructural wing optimization using OpenAeroStruct\n",
    "\n",
    "This example demonstrates the aerostructural optimization of the Common Research Model (CRM) wing using OpenAeroStruct. The aerostructural design problem is formulated as an optimization problem, with the goal of minimizing fuel burn while satisfying structural and aerodynamic performance constraints.\n",
    "\n",
    "The problem involves coupling of two disciplines: aerodynamics and structures. The aerostructural optimization is performed using an AerostructPoint group, which contains the additional components needed for aerostructural optimization.\n",
    "\n",
    "The CRM wing is modeled as a thin-walled tube with aluminum 7075 spar material. The wing surface is divided into a mesh using generate_mesh, with the mesh_dict dictionary defining the wing geometry. The aerostructural problem formulation is based on the FEM model type of \"tube\".\n",
    "\n",
    "The optimization problem formulation is set up using the OpenMDAO framework, with the ScipyOptimizeDriver as the optimizer. The design variables, constraints, and objective function are added to the problem, and the problem is set up and solved using the prob.setup() and prob.run_driver() methods, respectively.\n",
    "\n",
    "Overall, this example highlights the capabilities of OpenAeroStruct for aerostructural optimization, and demonstrates the use of aerostructural optimization in designing aircraft wings for improved fuel efficiency and performance."
   ]
  }
 ],
 "metadata": {
  "language_info": {
   "name": "python"
  },
  "orig_nbformat": 4
 },
 "nbformat": 4,
 "nbformat_minor": 2
}
