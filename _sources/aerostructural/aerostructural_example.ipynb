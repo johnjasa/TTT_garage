{
 "cells": [
  {
   "attachments": {},
   "cell_type": "markdown",
   "metadata": {},
   "source": [
    "# Aerostructural wing optimization using OpenAeroStruct\n",
    "\n",
    "## Introduction\n",
    "\n",
    "This example demonstrates the aerostructural optimization of the Common Research Model (CRM) wing using OpenAeroStruct. The aerostructural design problem is formulated as an optimization problem, with the goal of minimizing fuel burn while satisfying structural and aerodynamic performance constraints.\n",
    "\n",
    "The problem involves coupling of two disciplines: aerodynamics and structures. The aerostructural optimization is performed using an AerostructPoint group, which contains the additional components needed for aerostructural optimization.\n",
    "\n",
    "The structural part of the CRM wing is modeled as a wingbox made of aluminum. The aerodynamic wing surface is represented using a vortex lattice method (VLM).\n",
    "\n",
    "The optimization problem formulation is set up using the OpenMDAO framework, with the ScipyOptimizeDriver as the optimizer. The design variables, constraints, and objective function are added to the problem, and the problem is set up and solved using the prob.setup() and prob.run_driver() methods, respectively.\n",
    "\n",
    "Overall, this example highlights the capabilities of OpenAeroStruct for aerostructural optimization, and demonstrates the use of aerostructural optimization in designing aircraft wings for improved fuel efficiency and performance.\n",
    "\n",
    "This example heavily draws from [this page in the OpenAeroStruct docs](https://mdolab-openaerostruct.readthedocs-hosted.com/en/latest/aerostructural_wingbox_walkthrough.html); the figure below shows a visualization of the optimized aerostructural wing.\n",
    "\n",
    "![OpenAeroStruct wing](wingbox_fine.png)"
   ]
  },
  {
   "attachments": {},
   "cell_type": "markdown",
   "metadata": {},
   "source": [
    "## Tools used and installation procedure\n",
    "\n",
    "[OpenAeroStruct](https://github.com/mdolab/OpenAeroStruct/) is a lightweight tool that performs aerostructural optimization using OpenMDAO. It couples a vortex-lattice method (VLM) and a 6 degrees of freedom 3-dimensional spatial beam model to simulate aerodynamic and structural analyses using lifting surfaces. These simulations are wrapped with an optimizer using NASA's OpenMDAO framework. [This journal paper](https://mdolab.engin.umich.edu/bibliography/Jasa2018a.html) goes into much more detail about the theory behind OpenAerostruct, and [its accompanying documentation](https://mdolab-openaerostruct.readthedocs-hosted.com/en/latest/) is also helpful.  \n",
    "\n",
    "OpenAerostruct is pip installable via `pip install openaerostruct` and all the pre-requisites for OAS will be installed along with that command."
   ]
  },
  {
   "attachments": {},
   "cell_type": "markdown",
   "metadata": {},
   "source": [
    "## Optimization problem formulation\n",
    "\n",
    "18 design variables and 5 constraints\n",
    "\n",
    "$$\n",
    "\\begin{align*}\n",
    "\\text{Minimize} & \\quad \\text{fuel burn} \\\\\n",
    "\\text{With respect to design variables} & \\quad \\text{wing twist} \\\\\n",
    "                                        & \\quad \\text{wingbox spar thickness} \\\\\n",
    "                                        & \\quad \\text{wingbox skin thickness} \\\\\n",
    "                                        & \\quad \\text{thickness-to-chord ratio} \\\\\n",
    "                                        & \\quad \\alpha_{\\text{maneuver}} \\\\\n",
    "                                        & \\quad \\text{fuel mass} \\\\\n",
    "\\text{Subject to constraints} & \\quad C_L = 0.5 \\\\\n",
    "                              & \\quad L = W \\\\\n",
    "                              & \\quad f_{\\text{structural failure}} <= 1 \\\\\n",
    "\\end{align*}\n",
    "$$"
   ]
  },
  {
   "cell_type": "markdown",
   "metadata": {},
   "source": []
  },
  {
   "cell_type": "code",
   "execution_count": null,
   "metadata": {},
   "outputs": [],
   "source": [
    "%load -r 1-20 oas_example.py"
   ]
  },
  {
   "cell_type": "code",
   "execution_count": null,
   "metadata": {
    "vscode": {
     "languageId": "plaintext"
    }
   },
   "outputs": [],
   "source": []
  }
 ],
 "metadata": {
  "language_info": {
   "name": "python"
  },
  "orig_nbformat": 4
 },
 "nbformat": 4,
 "nbformat_minor": 2
}
